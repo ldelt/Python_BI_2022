{
 "cells": [
  {
   "cell_type": "code",
   "execution_count": 212,
   "id": "80af7808",
   "metadata": {},
   "outputs": [],
   "source": [
    "def sequential_map(*args, str_iter=True):\n",
    "    container = args[-1] \n",
    "    \n",
    "    if str_iter == True or type(container) != str: \n",
    "        try:\n",
    "            for function in args[0:-1]:\n",
    "                container = map(function, container)\n",
    "            return list(container)\n",
    "        except TypeError:\n",
    "            for function in args[0:-1]:\n",
    "                container = function(container)  \n",
    "            return container\n",
    "              \n",
    "    else:\n",
    "        for function in args[0:-1]:\n",
    "            container = function(container)\n",
    "        return container"
   ]
  },
  {
   "cell_type": "code",
   "execution_count": 57,
   "id": "674015bf",
   "metadata": {},
   "outputs": [],
   "source": [
    "def consensus_filter(*args):\n",
    "    container = args[-1] \n",
    "    ty = type(container)\n",
    "    for function in args[0:-1]:\n",
    "        container = filter(function, container)\n",
    "    return ty(container)"
   ]
  },
  {
   "cell_type": "code",
   "execution_count": 111,
   "id": "e6f94ef4",
   "metadata": {},
   "outputs": [],
   "source": [
    "def conditional_reduce(func_con, fun_red, container):\n",
    "    container = list(filter(func_con, container))\n",
    "    while True:\n",
    "        try: \n",
    "            container[1] = fun_red(container[0], container[1])\n",
    "            container = container[1:]\n",
    "        except IndexError:\n",
    "            break\n",
    "    return container[0]"
   ]
  },
  {
   "cell_type": "code",
   "execution_count": 188,
   "id": "c13a6c1f",
   "metadata": {},
   "outputs": [],
   "source": [
    "def func_chain(*args):\n",
    "    args = list(args)\n",
    "    def my_chain(value, **kwargs):\n",
    "        args.append(value)\n",
    "        return sequential_map(*args, **kwargs)\n",
    "    return my_chain"
   ]
  },
  {
   "cell_type": "code",
   "execution_count": 340,
   "id": "566f217e",
   "metadata": {},
   "outputs": [],
   "source": [
    "def multiple_partial(*args, **kwargs):\n",
    "    function_list = []\n",
    "    def create(fun):\n",
    "        return lambda *args2, **kwargs2: fun(*args2, **kwargs2, **kwargs)\n",
    "    for i in args:\n",
    "        function_list.append(create(i))\n",
    "    return function_list"
   ]
  }
 ],
 "metadata": {
  "kernelspec": {
   "display_name": "Python 3 (ipykernel)",
   "language": "python",
   "name": "python3"
  },
  "language_info": {
   "codemirror_mode": {
    "name": "ipython",
    "version": 3
   },
   "file_extension": ".py",
   "mimetype": "text/x-python",
   "name": "python",
   "nbconvert_exporter": "python",
   "pygments_lexer": "ipython3",
   "version": "3.10.8"
  }
 },
 "nbformat": 4,
 "nbformat_minor": 5
}
