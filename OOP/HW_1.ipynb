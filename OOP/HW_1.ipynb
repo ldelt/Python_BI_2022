{
  "cells": [
    {
      "cell_type": "markdown",
      "id": "7c5a538f-2dbe-445c-9f46-cf0dc18867e4",
      "metadata": {
        "id": "7c5a538f-2dbe-445c-9f46-cf0dc18867e4"
      },
      "source": [
        "# Задание 1 (5 баллов)"
      ]
    },
    {
      "cell_type": "markdown",
      "id": "1e8cc3b0-6f60-40da-8058-30d9eb434daf",
      "metadata": {
        "id": "1e8cc3b0-6f60-40da-8058-30d9eb434daf"
      },
      "source": [
        "Напишите классы **Chat**, **Message** и **User**. Они должны соответствовать следующим требованиям:\n",
        "\n",
        "**Chat**:\n",
        "+ Должен иметь атрибут `chat_history`, где будут храниться все сообщения (`Message`) в обратном хронологическом порядке (сначала новые, затем старые)\n",
        "+ Должен иметь метод `show_last_message`, выводящий на экран информацию о последнем сообщении\n",
        "+ Должен иметь метод `get_history_from_time_period`, который принимает два опциональных аргумента (даты с которой и по какую мы ищем сообщения и выдаём их). Метод также должен возвращать объект типа `Chat`\n",
        "+ Должен иметь метод `show_chat`, выводящий на экран все сообщения (каждое сообщение в таком же виде как и `show_last_message`, но с разделителем между ними)\n",
        "+ Должен иметь метод `recieve`, который будет принимать сообщение и добавлять его в чат\n",
        "\n",
        "**Message**:\n",
        "+ Должен иметь три обязательных атрибута\n",
        "    + `text` - текст сообщения\n",
        "    + `datetime` - дата и время сообщения (встроенный модуль datetime вам в помощь). Важно! Это должна быть не дата создания сообщения, а дата его попадания в чат! \n",
        "    + `user` - информация о пользователе, который оставил сообщение (какой тип данных использовать здесь, разберётесь сами)\n",
        "+ Должен иметь метод `show`, который печатает или возвращает информацию о сообщении с необходимой информацией (дата, время, юзер, текст)\n",
        "+ Должен иметь метод `send`, который будет отправлять сообщение в чат\n",
        "\n",
        "**User**:\n",
        "+ Класс с информацией о юзере, наполнение для этого класса придумайте сами\n",
        "\n",
        "Напишите несколько примеров использования кода, которое показывает взаимодействие между объектами.\n",
        "\n",
        "В тексте задания намерено не указано, какие аргументы должны принимать методы, пускай вам в этом поможет здравый смысл)\n",
        "\n",
        "В этом задании не стоит флексить всякими продвинутыми штуками, для этого есть последующие\n",
        "\n",
        "В этом задании можно использовать только модуль `datetime`"
      ]
    },
    {
      "cell_type": "code",
      "execution_count": null,
      "id": "d14ce6ca-7294-492c-8a01-3f7547680474",
      "metadata": {
        "id": "d14ce6ca-7294-492c-8a01-3f7547680474"
      },
      "outputs": [],
      "source": [
        "from datetime import datetime\n",
        "\n",
        "\n",
        "class Chat:\n",
        "    # Ваш код здесь\n",
        "    \n",
        "    def __init__(self):\n",
        "        self.chat_history = []\n",
        "    \n",
        "    def _recieve(self, message):\n",
        "        if isinstance(message, Message):\n",
        "            self.chat_history.insert(0, message)\n",
        "        else:\n",
        "            print('This is not message')\n",
        "          \n",
        "    def _new_chat_from_mlist(self, chat_list):\n",
        "        chat = type(self)()\n",
        "        chat.chat_history = chat_list\n",
        "\n",
        "        return chat\n",
        "\n",
        "    def show_last_message(self):\n",
        "        self.chat_history[0].show()\n",
        "    \n",
        "    def get_history_from_time_period(self, start=None, stop=None):\n",
        "        datetime_start = datetime.strptime(start, '%d.%m.%Y %H:%M:%S') if start else None\n",
        "        datetime_stop = datetime.strptime(stop, '%d.%m.%Y %H:%M:%S') if stop else None\n",
        "        chat_slice = []\n",
        "\n",
        "        for message in self.chat_history:\n",
        "            if datetime_start is not None and message.datetime < datetime_start:\n",
        "                continue\n",
        "            if datetime_stop is not None and message.datetime > datetime_stop:\n",
        "                continue\n",
        "            chat_slice.append(message)\n",
        "\n",
        "        return self._new_chat_from_mlist(chat_slice)\n",
        "\n",
        "    def show_chat(self):\n",
        "        for message in reversed(self.chat_history):\n",
        "            message.show()\n",
        "            print()\n",
        "\n",
        "    \n",
        "\n",
        "class Message:\n",
        "    # Ваш код здесь\n",
        "\n",
        "    def __init__(self, user, text):\n",
        "        self.text = text\n",
        "        self.datetime = None\n",
        "        self.user = user\n",
        "\n",
        "    def show(self):\n",
        "        new_datetime = self.datetime.strftime('%d.%m.%Y %H:%M:%S')\n",
        "        print(f'Date and time: {new_datetime}', \n",
        "              f'User: {self.user}; Hero: {self.user.hero}',\n",
        "              f'Text: {self.text}', sep='\\n')\n",
        "    \n",
        "    def send(self, chat_name):\n",
        "        self.datetime = datetime.now()\n",
        "        chat_name._recieve(self)\n",
        "\n",
        "\n",
        "\n",
        "class User():\n",
        "    # Ваш код здесь\n",
        "\n",
        "    def __init__(self, nickname, hero):\n",
        "        self.nickname = nickname\n",
        "        self.hero = hero\n",
        "        self.reg_date = datetime.now()\n",
        "    \n",
        "    def __repr__(self):\n",
        "        return self.nickname\n",
        "\n"
      ]
    },
    {
      "cell_type": "code",
      "source": [
        "phoenix = User('Птичка', 'Phoenix')\n",
        "venomancer = User('ffe', 'Venomancer')\n",
        "slark = User('Madao', 'Slark')\n",
        "lion = User('СМЕТАНА', 'Lion')\n",
        "\n",
        "m1 = Message(phoenix, 'посоветуйте ониме новичку')\n",
        "m2 = Message(venomancer, 'твое имя')\n",
        "m3 = Message(slark, 'антон')\n",
        "m4 = Message(lion, 'а?')\n",
        "m5 = Message(lion, 'че звал сларк?')\n",
        "\n",
        "chat = Chat()"
      ],
      "metadata": {
        "id": "bmOxSEJDXkGX"
      },
      "id": "bmOxSEJDXkGX",
      "execution_count": null,
      "outputs": []
    },
    {
      "cell_type": "code",
      "source": [
        "m1.send(chat)\n",
        "m2.send(chat)\n",
        "m3.send(chat)\n",
        "m4.send(chat)\n",
        "m5.send(chat)"
      ],
      "metadata": {
        "id": "UH6AwhaBZOWD"
      },
      "id": "UH6AwhaBZOWD",
      "execution_count": null,
      "outputs": []
    },
    {
      "cell_type": "code",
      "source": [
        "m1.show()"
      ],
      "metadata": {
        "colab": {
          "base_uri": "https://localhost:8080/"
        },
        "id": "58j7u4sewoXK",
        "outputId": "d25fe5fa-e697-4b36-e448-da1895aba398"
      },
      "id": "58j7u4sewoXK",
      "execution_count": null,
      "outputs": [
        {
          "output_type": "stream",
          "name": "stdout",
          "text": [
            "Date and time: 20.04.2023 22:29:09\n",
            "User: Птичка; Hero: Phoenix\n",
            "Text: посоветуйте ониме новичку\n"
          ]
        }
      ]
    },
    {
      "cell_type": "code",
      "source": [
        "chat.show_last_message()"
      ],
      "metadata": {
        "colab": {
          "base_uri": "https://localhost:8080/"
        },
        "id": "zbB5aIxSafOP",
        "outputId": "735a3686-b807-4083-81b1-2a82d076fd89"
      },
      "id": "zbB5aIxSafOP",
      "execution_count": null,
      "outputs": [
        {
          "output_type": "stream",
          "name": "stdout",
          "text": [
            "Date and time: 20.04.2023 22:29:09\n",
            "User: СМЕТАНА; Hero: Lion\n",
            "Text: че звал сларк?\n"
          ]
        }
      ]
    },
    {
      "cell_type": "code",
      "source": [
        "chat.show_chat()"
      ],
      "metadata": {
        "colab": {
          "base_uri": "https://localhost:8080/"
        },
        "id": "FdgDsfm7XlEG",
        "outputId": "bfff877c-4e70-4d37-b888-345c277cca46"
      },
      "id": "FdgDsfm7XlEG",
      "execution_count": null,
      "outputs": [
        {
          "output_type": "stream",
          "name": "stdout",
          "text": [
            "Date and time: 20.04.2023 22:29:09\n",
            "User: Птичка; Hero: Phoenix\n",
            "Text: посоветуйте ониме новичку\n",
            "\n",
            "Date and time: 20.04.2023 22:29:09\n",
            "User: ffe; Hero: Venomancer\n",
            "Text: твое имя\n",
            "\n",
            "Date and time: 20.04.2023 22:29:09\n",
            "User: Madao; Hero: Slark\n",
            "Text: антон\n",
            "\n",
            "Date and time: 20.04.2023 22:29:09\n",
            "User: СМЕТАНА; Hero: Lion\n",
            "Text: а?\n",
            "\n",
            "Date and time: 20.04.2023 22:29:09\n",
            "User: СМЕТАНА; Hero: Lion\n",
            "Text: че звал сларк?\n",
            "\n"
          ]
        }
      ]
    },
    {
      "cell_type": "code",
      "source": [
        "sf = User('Kaneki Kek', 'Shadow Fiend')\n",
        "Message(sf, 'Let me die').send(chat)\n",
        "Message(sf, 'I don\\'t really know what the point in life is').send(chat)\n",
        "Message(sf, 'Everybody knows...').send(chat)"
      ],
      "metadata": {
        "id": "MuVdO1YDnk2V"
      },
      "id": "MuVdO1YDnk2V",
      "execution_count": null,
      "outputs": []
    },
    {
      "cell_type": "code",
      "source": [
        "chat_history = chat.get_history_from_time_period(start='20.04.2023 22:30:51', \n",
        "                                                 stop='20.04.2025 22:30:00')\n",
        "chat_history.show_chat()"
      ],
      "metadata": {
        "colab": {
          "base_uri": "https://localhost:8080/"
        },
        "id": "IAPywZsKu_ys",
        "outputId": "156971c9-28d9-473e-cfee-d23f64374d5f"
      },
      "id": "IAPywZsKu_ys",
      "execution_count": null,
      "outputs": [
        {
          "output_type": "stream",
          "name": "stdout",
          "text": [
            "Date and time: 20.04.2023 22:30:51\n",
            "User: Kaneki Kek; Hero: Shadow Fiend\n",
            "Text: Let me die\n",
            "\n",
            "Date and time: 20.04.2023 22:30:51\n",
            "User: Kaneki Kek; Hero: Shadow Fiend\n",
            "Text: I don't really know what the point in life is\n",
            "\n",
            "Date and time: 20.04.2023 22:30:51\n",
            "User: Kaneki Kek; Hero: Shadow Fiend\n",
            "Text: Everybody knows...\n",
            "\n"
          ]
        }
      ]
    },
    {
      "cell_type": "markdown",
      "id": "a59aa1b3-4c93-480e-a09f-e57df34eb60a",
      "metadata": {
        "id": "a59aa1b3-4c93-480e-a09f-e57df34eb60a"
      },
      "source": [
        "# Задание 2 (3 балла)"
      ]
    },
    {
      "cell_type": "markdown",
      "id": "ab07eb69-877f-4c38-8c7d-88beae20071b",
      "metadata": {
        "id": "ab07eb69-877f-4c38-8c7d-88beae20071b"
      },
      "source": [
        "В питоне как-то слишком типично и неинтересно происходят вызовы функций. Напишите класс `Args`, который будет хранить в себе аргументы, а функции можно будет вызывать при помощи следующего синтаксиса.\n",
        "\n",
        "Использовать любые модули **нельзя**, да и вряд-ли это как-то поможет)"
      ]
    },
    {
      "cell_type": "code",
      "execution_count": null,
      "id": "d73d6b31-c15a-4ae6-ad9b-b3fdab88efed",
      "metadata": {
        "id": "d73d6b31-c15a-4ae6-ad9b-b3fdab88efed"
      },
      "outputs": [],
      "source": [
        "class Args:\n",
        "\n",
        "    def __init__(self, *args, **kwargs):\n",
        "        self.args = args\n",
        "        self.kwargs = kwargs\n",
        "\n",
        "    def __rlshift__(self, other):\n",
        "        result = other(*self.args, **self.kwargs)\n",
        "        return result"
      ]
    },
    {
      "cell_type": "code",
      "execution_count": null,
      "id": "55afedbb-4725-4078-bd98-bf803be0bf93",
      "metadata": {
        "colab": {
          "base_uri": "https://localhost:8080/"
        },
        "id": "55afedbb-4725-4078-bd98-bf803be0bf93",
        "outputId": "c36c7a5e-6ae1-4423-c84d-1b90998cb043"
      },
      "outputs": [
        {
          "output_type": "execute_result",
          "data": {
            "text/plain": [
              "3"
            ]
          },
          "metadata": {},
          "execution_count": 153
        }
      ],
      "source": [
        "sum << Args([1, 2])"
      ]
    },
    {
      "cell_type": "code",
      "execution_count": null,
      "id": "c37f0728-9bdc-469e-a5b8-3ab5aa43a731",
      "metadata": {
        "colab": {
          "base_uri": "https://localhost:8080/"
        },
        "id": "c37f0728-9bdc-469e-a5b8-3ab5aa43a731",
        "outputId": "29316961-f3dc-4acc-b8df-b54785836083"
      },
      "outputs": [
        {
          "output_type": "execute_result",
          "data": {
            "text/plain": [
              "53"
            ]
          },
          "metadata": {},
          "execution_count": 154
        }
      ],
      "source": [
        "(lambda a, b, c: a**2 + b + c) << Args(1, 2, c=50)"
      ]
    },
    {
      "cell_type": "markdown",
      "source": [],
      "metadata": {
        "id": "6iTAXMG18RrJ"
      },
      "id": "6iTAXMG18RrJ"
    },
    {
      "cell_type": "markdown",
      "id": "d6915eaf-92fe-460b-bf9b-06ccf55b093f",
      "metadata": {
        "id": "d6915eaf-92fe-460b-bf9b-06ccf55b093f"
      },
      "source": [
        "# Задание 3 (5 баллов)"
      ]
    },
    {
      "cell_type": "markdown",
      "id": "5a588ef8-8af6-42b6-972b-3c716a604c34",
      "metadata": {
        "id": "5a588ef8-8af6-42b6-972b-3c716a604c34"
      },
      "source": [
        "Сделайте класс наследник `float`. Он должен вести себя как `float`, но также должен обладать некоторыми особенностями:\n",
        "+ При получении атрибутов формата `<действие>_<число>` мы получаем результат такого действия над нашим числом\n",
        "+ Создавать данные атрибуты в явном виде, очевидно, не стоит\n",
        "\n",
        "Подсказка: если в процессе гуглёжки, вы выйдете на такую тему как **\"Дескрипторы\", то это НЕ то, что вам сейчас нужно**\n",
        "\n",
        "Примеры использования ниже"
      ]
    },
    {
      "cell_type": "code",
      "execution_count": null,
      "id": "61cb63a2-90ac-4b79-97a5-bb0496262e32",
      "metadata": {
        "id": "61cb63a2-90ac-4b79-97a5-bb0496262e32"
      },
      "outputs": [],
      "source": [
        "class StrangeFloat(float):\n",
        "    def __getattr__(self, target):\n",
        "        parts = target.split('_')\n",
        "\n",
        "        if parts[0] == 'add':\n",
        "            result = self + float(parts[1])\n",
        "        elif parts[0] == 'subtract':\n",
        "            result = self - float(parts[1])\n",
        "        elif parts[0] == 'multiply':\n",
        "            result = self * float(parts[1])\n",
        "        elif parts[0] == 'divide':\n",
        "            result = self / float(parts[1])\n",
        "\n",
        "        return type(self)(result)\n"
      ]
    },
    {
      "cell_type": "code",
      "execution_count": null,
      "id": "f730c9c0-7d90-4037-97c6-e926dcbc1ea3",
      "metadata": {
        "id": "f730c9c0-7d90-4037-97c6-e926dcbc1ea3"
      },
      "outputs": [],
      "source": [
        "number = StrangeFloat(3.5)"
      ]
    },
    {
      "cell_type": "code",
      "execution_count": null,
      "id": "b2756368-a489-486d-a0f1-244697f8503c",
      "metadata": {
        "colab": {
          "base_uri": "https://localhost:8080/"
        },
        "id": "b2756368-a489-486d-a0f1-244697f8503c",
        "outputId": "4014deea-0d36-4907-dd8a-263f8ad6cac6"
      },
      "outputs": [
        {
          "output_type": "execute_result",
          "data": {
            "text/plain": [
              "4.5"
            ]
          },
          "metadata": {},
          "execution_count": 201
        }
      ],
      "source": [
        "number.add_1"
      ]
    },
    {
      "cell_type": "code",
      "execution_count": null,
      "id": "c6799592-3cb6-4c7d-af62-9c0a48a76c1d",
      "metadata": {
        "colab": {
          "base_uri": "https://localhost:8080/"
        },
        "id": "c6799592-3cb6-4c7d-af62-9c0a48a76c1d",
        "outputId": "7c46c66a-fc05-47f1-9453-ccb07b5b982b"
      },
      "outputs": [
        {
          "output_type": "execute_result",
          "data": {
            "text/plain": [
              "-16.5"
            ]
          },
          "metadata": {},
          "execution_count": 202
        }
      ],
      "source": [
        "number.subtract_20"
      ]
    },
    {
      "cell_type": "code",
      "execution_count": null,
      "id": "130027b5-017a-4c70-b072-1fdc6acf670f",
      "metadata": {
        "colab": {
          "base_uri": "https://localhost:8080/"
        },
        "id": "130027b5-017a-4c70-b072-1fdc6acf670f",
        "outputId": "8e9ce8b6-5e99-4a65-b0cc-88e9155e1974"
      },
      "outputs": [
        {
          "output_type": "execute_result",
          "data": {
            "text/plain": [
              "17.5"
            ]
          },
          "metadata": {},
          "execution_count": 203
        }
      ],
      "source": [
        "number.multiply_5"
      ]
    },
    {
      "cell_type": "code",
      "execution_count": null,
      "id": "2b901e5c-5a51-4788-b15b-9b20a074e1a4",
      "metadata": {
        "colab": {
          "base_uri": "https://localhost:8080/"
        },
        "id": "2b901e5c-5a51-4788-b15b-9b20a074e1a4",
        "outputId": "64fa1601-34de-4aad-f59d-23fb862a7b35"
      },
      "outputs": [
        {
          "output_type": "execute_result",
          "data": {
            "text/plain": [
              "0.14"
            ]
          },
          "metadata": {},
          "execution_count": 204
        }
      ],
      "source": [
        "number.divide_25"
      ]
    },
    {
      "cell_type": "code",
      "execution_count": null,
      "id": "ea52c492-b0ce-4d73-8aba-a0ea51ed0b60",
      "metadata": {
        "colab": {
          "base_uri": "https://localhost:8080/"
        },
        "id": "ea52c492-b0ce-4d73-8aba-a0ea51ed0b60",
        "outputId": "f1a42d95-b809-4eb5-e902-6057d28ae68b"
      },
      "outputs": [
        {
          "output_type": "execute_result",
          "data": {
            "text/plain": [
              "-4.125"
            ]
          },
          "metadata": {},
          "execution_count": 205
        }
      ],
      "source": [
        "number.add_1.add_2.multiply_6.divide_8.subtract_9"
      ]
    },
    {
      "cell_type": "code",
      "execution_count": null,
      "id": "e26ef411-a5df-46c7-bb9d-e77a1fad3cec",
      "metadata": {
        "colab": {
          "base_uri": "https://localhost:8080/"
        },
        "id": "e26ef411-a5df-46c7-bb9d-e77a1fad3cec",
        "outputId": "3c0559b9-ce03-4ad9-ef17-82ab060a5f4b"
      },
      "outputs": [
        {
          "output_type": "execute_result",
          "data": {
            "text/plain": [
              "1.0"
            ]
          },
          "metadata": {},
          "execution_count": 206
        }
      ],
      "source": [
        "getattr(number, \"add_-2.5\")   # Используем getattr, так как не можем написать number.add_-2.5 - это SyntaxError"
      ]
    },
    {
      "cell_type": "code",
      "execution_count": null,
      "id": "7a57bb29-1105-4df1-a4c4-5fbf62eef11d",
      "metadata": {
        "colab": {
          "base_uri": "https://localhost:8080/"
        },
        "id": "7a57bb29-1105-4df1-a4c4-5fbf62eef11d",
        "outputId": "b6d5316e-ecb6-41bf-a7d1-eb7b65d2766a"
      },
      "outputs": [
        {
          "output_type": "execute_result",
          "data": {
            "text/plain": [
              "11.5"
            ]
          },
          "metadata": {},
          "execution_count": 207
        }
      ],
      "source": [
        "number + 8   # Стандартные для float операции работают также"
      ]
    },
    {
      "cell_type": "code",
      "execution_count": null,
      "id": "f0246b31-c55a-4bb8-ac15-46509bd8b340",
      "metadata": {
        "colab": {
          "base_uri": "https://localhost:8080/"
        },
        "id": "f0246b31-c55a-4bb8-ac15-46509bd8b340",
        "outputId": "6b9e3711-b389-446c-c161-809e4322a302"
      },
      "outputs": [
        {
          "output_type": "execute_result",
          "data": {
            "text/plain": [
              "(7, 2)"
            ]
          },
          "metadata": {},
          "execution_count": 208
        }
      ],
      "source": [
        "number.as_integer_ratio()   # Стандартные для float операции работают также  (это встроенный метод float, писать его НЕ НАДО)"
      ]
    },
    {
      "cell_type": "markdown",
      "id": "3635bceb-723c-4b2f-82e3-269bd914c46c",
      "metadata": {
        "id": "3635bceb-723c-4b2f-82e3-269bd914c46c"
      },
      "source": [
        "# Задание 4 (3 балла)"
      ]
    },
    {
      "cell_type": "markdown",
      "id": "31d35f82-1e20-4bf5-b896-7b8163f8386f",
      "metadata": {
        "id": "31d35f82-1e20-4bf5-b896-7b8163f8386f"
      },
      "source": [
        "В данном задании мы немного отдохнём и повеселимся. От вас требуется заменить в данном коде максимально возможное количество синтаксических конструкций на вызовы dunder методов, dunder атрибутов и dunder переменных.\n",
        "\n",
        "Маленькая заметка: полностью всё заменить невозможно. Например, `function()` можно записать как `function.__call__()`, но при этом мы всё ещё не избавляемся от скобочек, так что можно делать так до бесконечности `function.__call__.__call__.__call__.__call__.....__call__()` и при всём при этом мы ещё не избавляемся от `.` для доступа к атрибутам. В общем, замените всё, что получится, не закапываясь в повторы, как в приведённом примере. Чем больше разных методов вы найдёте и используете, тем лучше и тем выше будет балл\n",
        "\n",
        "Код по итогу дожен работать и печатать число **4420.0**, как в примере. Структуру кода менять нельзя, просто изменяем конструкции на синонимичные\n",
        "\n",
        "И ещё маленькая подсказка. Заменить здесь можно всё кроме:\n",
        "+ Конструкции `for ... in ...`:\n",
        "+ Синтаксиса создания лямбда функции\n",
        "+ Оператора присваивания `=`\n",
        "+ Конструкции `if-else`"
      ]
    },
    {
      "cell_type": "code",
      "execution_count": 23,
      "id": "a87cff2a-7168-470d-b38f-1cb5a60ac0c4",
      "metadata": {
        "id": "a87cff2a-7168-470d-b38f-1cb5a60ac0c4",
        "outputId": "764897c5-3442-43b7-94d0-45c6945feec0",
        "colab": {
          "base_uri": "https://localhost:8080/"
        }
      },
      "outputs": [
        {
          "output_type": "stream",
          "name": "stdout",
          "text": [
            "4420.0\n"
          ]
        }
      ],
      "source": [
        "import numpy as np\n",
        "\n",
        "\n",
        "matrix = []\n",
        "for idx in range(0, 100, 10):\n",
        "    matrix += [list(range(idx, idx + 10))]\n",
        "    \n",
        "selected_columns_indices = list(filter(lambda x: x in range(1, 5, 2), range(len(matrix))))\n",
        "selected_columns = map(lambda x: [x[col] for col in selected_columns_indices], matrix)\n",
        "\n",
        "arr = np.array(list(selected_columns))\n",
        "\n",
        "mask = arr[:, 1] % 3 == 0\n",
        "new_arr = arr[mask]\n",
        "\n",
        "product = new_arr @ new_arr.T\n",
        "\n",
        "if (product[0] < 1000).all() and (product[2] > 1000).any():\n",
        "    print(product.mean())"
      ]
    },
    {
      "cell_type": "code",
      "execution_count": 59,
      "id": "9e29cc00-c8db-4cc4-a93b-2908352d9344",
      "metadata": {
        "id": "9e29cc00-c8db-4cc4-a93b-2908352d9344",
        "colab": {
          "base_uri": "https://localhost:8080/"
        },
        "outputId": "4ec70415-6a21-43c7-ee82-bb0add85133f"
      },
      "outputs": [
        {
          "output_type": "stream",
          "name": "stdout",
          "text": [
            "4420.0\n"
          ]
        }
      ],
      "source": [
        "# Ваш код здесь\n",
        "\n",
        "np = __import__('numpy')\n",
        "\n",
        "matrix = []\n",
        "\n",
        "for idx in range(0, 100, 10):\n",
        "    matrix = matrix.__add__([list(range(idx, idx.__add__(10)))])\n",
        "\n",
        "selected_columns_indices = list(filter(lambda x: range(1, 5, 2).__contains__(x), range(matrix.__len__())))\n",
        "selected_columns = map(lambda x: [x.__getitem__(col) for col in selected_columns_indices], matrix)\n",
        "\n",
        "arr = np.array(list(selected_columns))\n",
        "\n",
        "mask = arr.__getitem__((slice(None, None, None), 1)).__mod__(3).__eq__(0)\n",
        "new_arr = arr.__getitem__(mask)\n",
        "\n",
        "product = new_arr.__matmul__(new_arr.transpose())\n",
        "\n",
        "if (product.__getitem__(0).__lt__(1000)).all().__and__((product.__getitem__(2).__gt__(1000)).any()):\n",
        "    print(product.mean())"
      ]
    },
    {
      "cell_type": "markdown",
      "id": "e90e5938-cabe-4ee1-9a88-73f25b3b67c3",
      "metadata": {
        "id": "e90e5938-cabe-4ee1-9a88-73f25b3b67c3"
      },
      "source": [
        "# Задание 5 (10 баллов)"
      ]
    },
    {
      "cell_type": "markdown",
      "id": "0e58f6a8-7bb8-45f0-b14d-3bcd1f1ba5a9",
      "metadata": {
        "id": "0e58f6a8-7bb8-45f0-b14d-3bcd1f1ba5a9"
      },
      "source": [
        "Напишите абстрактный класс `BiologicalSequence`, который задаёт следующий интерфейс:\n",
        "+ Работа с функцией `len`\n",
        "+ Возможность получать элементы по индексу и делать срезы последовательности (аналогично строкам)\n",
        "+ Вывод на печать в удобном виде и возможность конвертации в строку\n",
        "+ Возможность проверить алфавит последовательности на корректность\n",
        "\n",
        "Напишите класс `NucleicAcidSequence`:\n",
        "+ Данный класс реализует интерфейс `BiologicalSequence`\n",
        "+ Данный класс имеет новый метод `complement`, возвращающий комплементарную последовательность\n",
        "+ Данный класс имеет новый метод `gc_content`, возвращающий GC-состав (без разницы, в процентах или в долях)\n",
        "\n",
        "Напишите классы наследники `NucleicAcidSequence`: `DNASequence` и `RNASequence`\n",
        "+ `DNASequence` должен иметь метод `transcribe`, возвращающий транскрибированную РНК-последовательность\n",
        "+ Данные классы не должны иметь <ins>публичных методов</ins> `complement` и метода для проверки алфавита, так как они уже должны быть реализованы в `NucleicAcidSequence`.\n",
        "\n",
        "Напишите класс `AminoAcidSequence`:\n",
        "+ Данный класс реализует интерфейс `BiologicalSequence`\n",
        "+ Добавьте этому классу один любой метод, подходящий по смыслу к аминокислотной последовательности. Например, метод для нахождения изоэлектрической точки, молекулярного веса и т.д.\n",
        "\n",
        "Комментарий по поводу метода `NucleicAcidSequence.complement`, так как я хочу, чтобы вы сделали его опредедённым образом:\n",
        "\n",
        "При вызове `dna.complement()` или условного `dna.check_alphabet()` должны будут вызываться соответствующие методы из `NucleicAcidSequence`. При этом, данный метод должен обладать свойством полиморфизма, иначе говоря, внутри `complement` не надо делать условия а-ля `if seuqence_type == \"DNA\": return self.complement_dna()`, это крайне не гибко. Данный метод должен опираться на какой-то общий интерфейс между ДНК и РНК. Создание экземпляров `NucleicAcidSequence` не подразумевается, поэтому код `NucleicAcidSequence(\"ATGC\").complement()` не обязан работать, а в идеале должен кидать исключение `NotImplementedError` при вызове от экземпляра `NucleicAcidSequence`\n",
        "\n",
        "Вся сложность задания в том, чтобы правильно организовать код. Если у вас есть повторяющийся код в сестринских классах или родительском и дочернем, значит вы что-то делаете не так.\n",
        "\n",
        "\n",
        "Маленькое замечание: По-хорошему, между классом `BiologicalSequence` и классами `NucleicAcidSequence` и `AminoAcidSequence`, ещё должен быть класс-прослойка, частично реализующий интерфейс `BiologicalSequence`, но его писать не обязательно, так как задание и так довольно большое (правда из-за этого у вас неминуемо возникнет повторяющийся код в классах `NucleicAcidSequence` и `AminoAcidSequence`)"
      ]
    },
    {
      "cell_type": "code",
      "execution_count": 168,
      "id": "f17d5d3f-9982-4271-a987-3af7bc071c42",
      "metadata": {
        "id": "f17d5d3f-9982-4271-a987-3af7bc071c42"
      },
      "outputs": [],
      "source": [
        "from abc import ABC, abstractmethod\n",
        "\n",
        "\n",
        "# Ваш код здесь\n",
        "\n",
        "class BiologicalSequence(ABC):\n",
        "\n",
        "    @abstractmethod\n",
        "    def __len__(self):\n",
        "        pass\n",
        "\n",
        "    @abstractmethod\n",
        "    def __getitem__(self, slc):\n",
        "        pass\n",
        "\n",
        "    @abstractmethod\n",
        "    def __repr__(self):\n",
        "        pass\n",
        "    \n",
        "    @abstractmethod\n",
        "    def check_alphabet(self):\n",
        "        pass"
      ]
    },
    {
      "cell_type": "code",
      "source": [
        "class NucleicAcidSequence(BiologicalSequence):\n",
        "    \n",
        "    def __init__(self, seq):\n",
        "        raise NotImplementedError(\"Создание экземпляров не поддерживается. Используйте классы DNASequence или RNASequence\")\n",
        "  \n",
        "    def __len__(self):\n",
        "        return len(self.seq)\n",
        "    \n",
        "    def __getitem__(self, slc):\n",
        "        return self.seq[slc]\n",
        "    \n",
        "    def __repr__(self):\n",
        "        return self.seq\n",
        "    \n",
        "    def check_alphabet(self):\n",
        "        nucleotides = set(self.seq)\n",
        "        if not nucleotides.issubset(self.alphabet):\n",
        "            print('НЕкорректная последовательность')\n",
        "        else:\n",
        "            print('Последовательность корректна')\n",
        "    \n",
        "    def complement(self):\n",
        "        compl_list = [self.complementarity_dictionary[nucl] for nucl in self.seq]\n",
        "        complement_seq = ''.join(compl_list)\n",
        "        return complement_seq\n",
        "\n",
        "    def gc_content(self):\n",
        "        gc_con = (self.seq.count('G') + self.seq.count('C')) / len(self.seq)\n",
        "        return gc_con"
      ],
      "metadata": {
        "id": "-wy0Ujj2Ct8K"
      },
      "id": "-wy0Ujj2Ct8K",
      "execution_count": 169,
      "outputs": []
    },
    {
      "cell_type": "code",
      "source": [
        "class DNASequence(NucleicAcidSequence):\n",
        "\n",
        "    def __init__(self, seq):\n",
        "        self.seq = seq\n",
        "        self.alphabet = {'A', 'T', 'G', 'C'}\n",
        "        self.complementarity_dictionary = {'A':'T',\n",
        "                                           'G':'C',\n",
        "                                           'T':'A',\n",
        "                                           'C':'G'}\n",
        "    def transcribe(self):\n",
        "        return self.seq.replace(\"T\", \"U\")"
      ],
      "metadata": {
        "id": "AS8W8tuyfiqg"
      },
      "id": "AS8W8tuyfiqg",
      "execution_count": 170,
      "outputs": []
    },
    {
      "cell_type": "code",
      "source": [
        "class RNASequence(NucleicAcidSequence):\n",
        "\n",
        "    def __init__(self, seq):\n",
        "        self.seq = seq\n",
        "        self.alphabet = {'A', 'U', 'G', 'C'}\n",
        "        self.complementarity_dictionary = {'A':'U',\n",
        "                                           'G':'C',\n",
        "                                           'U':'A',\n",
        "                                           'C':'G'}\n",
        "        "
      ],
      "metadata": {
        "id": "rRsi6mWffkUW"
      },
      "id": "rRsi6mWffkUW",
      "execution_count": 171,
      "outputs": []
    },
    {
      "cell_type": "code",
      "source": [
        "class AminoAcidSequence(BiologicalSequence):\n",
        "    def __init__(self, seq):\n",
        "        self.seq = seq\n",
        "        self.alphabet = {'A', 'C', 'D', 'E', 'F', 'G', 'I', 'H', 'K', 'L', 'M', 'N', 'P', 'Q', 'R', 'S', 'T', 'V', 'W', 'Y'}\n",
        "\n",
        "        #Словарь взял отсюда. \n",
        "        #https://stackoverflow.com/questions/27361877/how-i-can-add-the-molecular-weight-of-my-new-list-of-strings-using-a-mw-dictiona\n",
        "        \n",
        "        self.weights = {'A': 71.04, 'C': 103.01, 'D': 115.03, 'E': 129.04, 'F': 147.07,\n",
        "                        'G': 57.02, 'H': 137.06, 'I': 113.08, 'K': 128.09, 'L': 113.08,\n",
        "                        'M': 131.04, 'N': 114.04, 'P': 97.05, 'Q': 128.06, 'R': 156.10,\n",
        "                        'S': 87.03, 'T': 101.05, 'V': 99.07, 'W': 186.08, 'Y': 163.06}\n",
        "  \n",
        "    def __len__(self):\n",
        "        return len(self.seq)\n",
        "    \n",
        "    def __getitem__(self, slc):\n",
        "        return self.seq[slc]\n",
        "    \n",
        "    def __repr__(self):\n",
        "        return self.seq\n",
        "    \n",
        "    def check_alphabet(self):\n",
        "        nucleotides = set(self.seq)\n",
        "        if not nucleotides.issubset(self.alphabet):\n",
        "            print('НЕкорректная последовательность')\n",
        "        else:\n",
        "            print('Последовательность корректна')\n",
        "    \n",
        "    def molecular_weight(self):\n",
        "        weight = sum([self.weights[ac] for ac in self.seq])\n",
        "        return weight\n"
      ],
      "metadata": {
        "id": "li8Jk_OHp1J2"
      },
      "id": "li8Jk_OHp1J2",
      "execution_count": 172,
      "outputs": []
    },
    {
      "cell_type": "code",
      "source": [
        "NucleicAcidSequence(\"ATGC\").complement()"
      ],
      "metadata": {
        "colab": {
          "base_uri": "https://localhost:8080/",
          "height": 300
        },
        "id": "24qfqr0yQcYj",
        "outputId": "29f4ce15-659e-444e-ae16-8e55cc171f4e"
      },
      "id": "24qfqr0yQcYj",
      "execution_count": 173,
      "outputs": [
        {
          "output_type": "error",
          "ename": "NotImplementedError",
          "evalue": "ignored",
          "traceback": [
            "\u001b[0;31m---------------------------------------------------------------------------\u001b[0m",
            "\u001b[0;31mNotImplementedError\u001b[0m                       Traceback (most recent call last)",
            "\u001b[0;32m<ipython-input-173-e84650b1ef3a>\u001b[0m in \u001b[0;36m<cell line: 1>\u001b[0;34m()\u001b[0m\n\u001b[0;32m----> 1\u001b[0;31m \u001b[0mNucleicAcidSequence\u001b[0m\u001b[0;34m(\u001b[0m\u001b[0;34m\"ATGC\"\u001b[0m\u001b[0;34m)\u001b[0m\u001b[0;34m.\u001b[0m\u001b[0mcomplement\u001b[0m\u001b[0;34m(\u001b[0m\u001b[0;34m)\u001b[0m\u001b[0;34m\u001b[0m\u001b[0;34m\u001b[0m\u001b[0m\n\u001b[0m",
            "\u001b[0;32m<ipython-input-169-29bc3574e027>\u001b[0m in \u001b[0;36m__init__\u001b[0;34m(self, seq)\u001b[0m\n\u001b[1;32m      2\u001b[0m \u001b[0;34m\u001b[0m\u001b[0m\n\u001b[1;32m      3\u001b[0m     \u001b[0;32mdef\u001b[0m \u001b[0m__init__\u001b[0m\u001b[0;34m(\u001b[0m\u001b[0mself\u001b[0m\u001b[0;34m,\u001b[0m \u001b[0mseq\u001b[0m\u001b[0;34m)\u001b[0m\u001b[0;34m:\u001b[0m\u001b[0;34m\u001b[0m\u001b[0;34m\u001b[0m\u001b[0m\n\u001b[0;32m----> 4\u001b[0;31m         \u001b[0;32mraise\u001b[0m \u001b[0mNotImplementedError\u001b[0m\u001b[0;34m(\u001b[0m\u001b[0;34m\"Создание экземпляров не поддерживается. Используйте классы DNASequence или RNASequence\"\u001b[0m\u001b[0;34m)\u001b[0m\u001b[0;34m\u001b[0m\u001b[0;34m\u001b[0m\u001b[0m\n\u001b[0m\u001b[1;32m      5\u001b[0m \u001b[0;34m\u001b[0m\u001b[0m\n\u001b[1;32m      6\u001b[0m     \u001b[0;32mdef\u001b[0m \u001b[0m__len__\u001b[0m\u001b[0;34m(\u001b[0m\u001b[0mself\u001b[0m\u001b[0;34m)\u001b[0m\u001b[0;34m:\u001b[0m\u001b[0;34m\u001b[0m\u001b[0;34m\u001b[0m\u001b[0m\n",
            "\u001b[0;31mNotImplementedError\u001b[0m: Создание экземпляров не поддерживается. Используйте классы DNASequence или RNASequence"
          ]
        }
      ]
    },
    {
      "cell_type": "code",
      "source": [
        "DNASequence(\"ATGCCC\").check_alphabet()"
      ],
      "metadata": {
        "colab": {
          "base_uri": "https://localhost:8080/"
        },
        "id": "c1yzAyG_b-8X",
        "outputId": "afe774d5-9c75-40d1-b79a-a317f7b959d2"
      },
      "id": "c1yzAyG_b-8X",
      "execution_count": 174,
      "outputs": [
        {
          "output_type": "stream",
          "name": "stdout",
          "text": [
            "Последовательность корректна\n"
          ]
        }
      ]
    },
    {
      "cell_type": "code",
      "source": [
        "DNASequence(\"ATGCCU\").check_alphabet()"
      ],
      "metadata": {
        "colab": {
          "base_uri": "https://localhost:8080/"
        },
        "id": "guRhGcdGe-tM",
        "outputId": "2a984c77-59c8-4a6b-8bc2-2b8f540bebf2"
      },
      "id": "guRhGcdGe-tM",
      "execution_count": 176,
      "outputs": [
        {
          "output_type": "stream",
          "name": "stdout",
          "text": [
            "НЕкорректная последовательность\n"
          ]
        }
      ]
    },
    {
      "cell_type": "code",
      "source": [
        "DNASequence(\"ATGCC\").transcribe()"
      ],
      "metadata": {
        "colab": {
          "base_uri": "https://localhost:8080/",
          "height": 35
        },
        "id": "YHRrrPFdeHUV",
        "outputId": "62fd864d-1091-45f1-e004-1aa65e180a2f"
      },
      "id": "YHRrrPFdeHUV",
      "execution_count": 177,
      "outputs": [
        {
          "output_type": "execute_result",
          "data": {
            "text/plain": [
              "'AUGCC'"
            ],
            "application/vnd.google.colaboratory.intrinsic+json": {
              "type": "string"
            }
          },
          "metadata": {},
          "execution_count": 177
        }
      ]
    },
    {
      "cell_type": "code",
      "source": [
        "RNASequence(\"AUGC\").complement()"
      ],
      "metadata": {
        "colab": {
          "base_uri": "https://localhost:8080/",
          "height": 35
        },
        "id": "0rWz8gFrc82y",
        "outputId": "81521fd0-5857-4ca3-ed13-bf2d7d894d18"
      },
      "id": "0rWz8gFrc82y",
      "execution_count": 178,
      "outputs": [
        {
          "output_type": "execute_result",
          "data": {
            "text/plain": [
              "'UACG'"
            ],
            "application/vnd.google.colaboratory.intrinsic+json": {
              "type": "string"
            }
          },
          "metadata": {},
          "execution_count": 178
        }
      ]
    },
    {
      "cell_type": "code",
      "source": [
        "RNASequence(\"AUGC\")"
      ],
      "metadata": {
        "colab": {
          "base_uri": "https://localhost:8080/"
        },
        "id": "MywlvhMTeafQ",
        "outputId": "9782d024-37ae-43f7-ec10-309454c855c2"
      },
      "id": "MywlvhMTeafQ",
      "execution_count": 179,
      "outputs": [
        {
          "output_type": "execute_result",
          "data": {
            "text/plain": [
              "AUGC"
            ]
          },
          "metadata": {},
          "execution_count": 179
        }
      ]
    },
    {
      "cell_type": "code",
      "source": [
        "str(RNASequence(\"AUGC\"))"
      ],
      "metadata": {
        "colab": {
          "base_uri": "https://localhost:8080/",
          "height": 35
        },
        "id": "L6rCpqE5ecfn",
        "outputId": "f2b45140-4f31-4beb-ada8-11b8af3ee1f4"
      },
      "id": "L6rCpqE5ecfn",
      "execution_count": 180,
      "outputs": [
        {
          "output_type": "execute_result",
          "data": {
            "text/plain": [
              "'AUGC'"
            ],
            "application/vnd.google.colaboratory.intrinsic+json": {
              "type": "string"
            }
          },
          "metadata": {},
          "execution_count": 180
        }
      ]
    },
    {
      "cell_type": "code",
      "source": [
        "len(RNASequence(\"AUGC\"))"
      ],
      "metadata": {
        "colab": {
          "base_uri": "https://localhost:8080/"
        },
        "id": "9hRv0pdLeot-",
        "outputId": "eda5f3d7-e918-42b7-d170-b86dd5a9e7e2"
      },
      "id": "9hRv0pdLeot-",
      "execution_count": 181,
      "outputs": [
        {
          "output_type": "execute_result",
          "data": {
            "text/plain": [
              "4"
            ]
          },
          "metadata": {},
          "execution_count": 181
        }
      ]
    },
    {
      "cell_type": "code",
      "source": [
        "RNASequence(\"AUGCGGGGG\")[3:7]"
      ],
      "metadata": {
        "colab": {
          "base_uri": "https://localhost:8080/",
          "height": 35
        },
        "id": "oHVdQzkPetCc",
        "outputId": "b954b5af-f200-491b-e170-25168f2892f0"
      },
      "id": "oHVdQzkPetCc",
      "execution_count": 182,
      "outputs": [
        {
          "output_type": "execute_result",
          "data": {
            "text/plain": [
              "'CGGG'"
            ],
            "application/vnd.google.colaboratory.intrinsic+json": {
              "type": "string"
            }
          },
          "metadata": {},
          "execution_count": 182
        }
      ]
    },
    {
      "cell_type": "code",
      "source": [
        "AminoAcidSequence('ACDEF').molecular_weight()"
      ],
      "metadata": {
        "colab": {
          "base_uri": "https://localhost:8080/"
        },
        "id": "Q6KVGe8_EpL0",
        "outputId": "512840da-7055-4e33-9d7f-aeec1979b405"
      },
      "id": "Q6KVGe8_EpL0",
      "execution_count": 183,
      "outputs": [
        {
          "output_type": "execute_result",
          "data": {
            "text/plain": [
              "565.19"
            ]
          },
          "metadata": {},
          "execution_count": 183
        }
      ]
    }
  ],
  "metadata": {
    "kernelspec": {
      "display_name": "Python 3 (ipykernel)",
      "language": "python",
      "name": "python3"
    },
    "language_info": {
      "codemirror_mode": {
        "name": "ipython",
        "version": 3
      },
      "file_extension": ".py",
      "mimetype": "text/x-python",
      "name": "python",
      "nbconvert_exporter": "python",
      "pygments_lexer": "ipython3",
      "version": "3.9.12"
    },
    "colab": {
      "provenance": []
    }
  },
  "nbformat": 4,
  "nbformat_minor": 5
}