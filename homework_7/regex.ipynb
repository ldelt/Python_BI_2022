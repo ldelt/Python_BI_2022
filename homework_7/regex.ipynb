{
 "cells": [
  {
   "cell_type": "code",
   "execution_count": 21,
   "id": "a8f9f393",
   "metadata": {},
   "outputs": [],
   "source": [
    "import re\n",
    "import seaborn as sns\n",
    "import matplotlib.pyplot as plt\n",
    "\n",
    "from collections import Counter"
   ]
  },
  {
   "cell_type": "code",
   "execution_count": 22,
   "id": "274926f5",
   "metadata": {},
   "outputs": [],
   "source": [
    "def ftp(file, new_file):\n",
    "    with open(new_file, 'a') as ftps:\n",
    "        with open(file, 'r') as file:\n",
    "            for line in file:\n",
    "                pattern = re.compile(r'ftp\\.[^\\s;]*')\n",
    "                parsed = re.findall(pattern, line)\n",
    "                for string in parsed:\n",
    "                    ftps.write(string + '\\n')\n",
    "                \n",
    "ftp('references', 'ftps')"
   ]
  },
  {
   "cell_type": "code",
   "execution_count": 23,
   "id": "a0a6fda2",
   "metadata": {},
   "outputs": [],
   "source": [
    "def find_numbers(line):\n",
    "    pattern = re.compile(r'(\\d+([\\.,/]\\d+)?)') # Fractional numbers and decimals (with dot or comma)\n",
    "    gps = re.findall(pattern, line)\n",
    "    for i in gps:\n",
    "        numbers.append(i[0])"
   ]
  },
  {
   "cell_type": "code",
   "execution_count": 24,
   "id": "159e1f0b",
   "metadata": {},
   "outputs": [],
   "source": [
    "def find_words(line):\n",
    "    pattern = r'\\w*[aA]\\w*'\n",
    "    word = re.findall(pattern, line)\n",
    "    words.extend(word)"
   ]
  },
  {
   "cell_type": "code",
   "execution_count": 25,
   "id": "4ad63cf2",
   "metadata": {},
   "outputs": [],
   "source": [
    "def find_exclamation(line):\n",
    "    pattern = r'[^\\.\\?\\!]*\\!'\n",
    "    snt = re.findall(pattern, line)\n",
    "    exclamations.extend(snt)"
   ]
  },
  {
   "cell_type": "code",
   "execution_count": 26,
   "id": "5498c71d",
   "metadata": {},
   "outputs": [],
   "source": [
    "def find_un_words(line):\n",
    "    line = line.lower()\n",
    "    pattern = r'\\b\\w+'\n",
    "    words = set(re.findall(pattern, line))\n",
    "    unic_words.update(words)"
   ]
  },
  {
   "cell_type": "code",
   "execution_count": 27,
   "id": "952619ce",
   "metadata": {},
   "outputs": [],
   "source": [
    "def make_hist(unic_words):\n",
    "    list(unic_words)\n",
    "    counter = dict(Counter(map(len, unic_words)))\n",
    "    keys = list(counter.keys())\n",
    "    vals = [counter[k] for k in keys]\n",
    "    sns.barplot(x=keys, y=vals)\n",
    "    plt.ylabel(r'Word length frequency', fontstyle='italic', size=12, fontweight='bold')\n",
    "    plt.xlabel(r'Word length', fontsize=12, fontstyle='italic', fontweight='bold')"
   ]
  },
  {
   "cell_type": "code",
   "execution_count": 28,
   "id": "bdf42a26",
   "metadata": {
    "scrolled": true
   },
   "outputs": [
    {
     "data": {
      "image/png": "[encoded data removed]",
      "text/plain": [
       "<Figure size 640x480 with 1 Axes>"
      ]
     },
     "metadata": {},
     "output_type": "display_data"
    }
   ],
   "source": [
    "with open('2430AD', 'r') as file:\n",
    "    numbers = []\n",
    "    words = []\n",
    "    exclamations = []\n",
    "    unic_words = set()\n",
    "    for line in file:\n",
    "        line = line.strip()\n",
    "        find_numbers(line)\n",
    "        find_words(line)\n",
    "        find_exclamation(line)\n",
    "        find_un_words(line)\n",
    "        \n",
    "    make_hist(unic_words)\n",
    "        "
   ]
  },
  {
   "cell_type": "code",
   "execution_count": 29,
   "id": "47a64bce",
   "metadata": {},
   "outputs": [],
   "source": [
    "def translate(string):\n",
    "    pattern = r'([аАяЯуУюЮоОеЕёЁэЭиИыЫ])'\n",
    "    substitute = r'\\1к\\1'\n",
    "    return re.sub(pattern, substitute, st)"
   ]
  },
  {
   "cell_type": "code",
   "execution_count": null,
   "id": "edb116e5",
   "metadata": {},
   "outputs": [],
   "source": []
  }
 ],
 "metadata": {
  "kernelspec": {
   "display_name": "Python 3 (ipykernel)",
   "language": "python",
   "name": "python3"
  },
  "language_info": {
   "codemirror_mode": {
    "name": "ipython",
    "version": 3
   },
   "file_extension": ".py",
   "mimetype": "text/x-python",
   "name": "python",
   "nbconvert_exporter": "python",
   "pygments_lexer": "ipython3",
   "version": "3.10.8"
  }
 },
 "nbformat": 4,
 "nbformat_minor": 5
}
