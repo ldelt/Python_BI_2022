{
 "cells": [
  {
   "cell_type": "markdown",
   "id": "72f5013c-f4b9-4a1f-aed9-7e47623e7c8a",
   "metadata": {
    "id": "72f5013c-f4b9-4a1f-aed9-7e47623e7c8a"
   },
   "source": [
    "# Задание 1 (2 балла)"
   ]
  },
  {
   "cell_type": "markdown",
   "id": "0e818fc0-4716-45c6-8942-7b60da358200",
   "metadata": {
    "id": "0e818fc0-4716-45c6-8942-7b60da358200"
   },
   "source": [
    "Напишите класс `MyDict`, который будет полностью повторять поведение обычного словаря, за исключением того, что при итерации мы должны получать и ключи, и значения.\n",
    "\n",
    "**Модули использовать нельзя**"
   ]
  },
  {
   "cell_type": "code",
   "execution_count": 1,
   "id": "3dc27675-99fc-4040-a8f7-aa20be51c816",
   "metadata": {
    "id": "3dc27675-99fc-4040-a8f7-aa20be51c816"
   },
   "outputs": [],
   "source": [
    "# Ваш код здесь\n",
    "\n",
    "class MyDict(dict):\n",
    "    def __iter__(self):\n",
    "        iterator = iter(self.items())\n",
    "        return iterator"
   ]
  },
  {
   "cell_type": "code",
   "execution_count": 2,
   "id": "a96e453e-2553-40b1-889f-cce04c6db771",
   "metadata": {
    "colab": {
     "base_uri": "https://localhost:8080/"
    },
    "id": "a96e453e-2553-40b1-889f-cce04c6db771",
    "outputId": "562470fd-71c7-4cd2-d239-8a59609ca028"
   },
   "outputs": [
    {
     "name": "stdout",
     "output_type": "stream",
     "text": [
      "a 1\n",
      "b 2\n",
      "c 3\n",
      "d 25\n"
     ]
    }
   ],
   "source": [
    "dct = MyDict({\"a\": 1, \"b\": 2, \"c\": 3, \"d\": 25})\n",
    "for key, value in dct:\n",
    "    print(key, value)   "
   ]
  },
  {
   "cell_type": "code",
   "execution_count": 3,
   "id": "d3b93507-d88a-4773-8d6f-31990e1effbc",
   "metadata": {
    "colab": {
     "base_uri": "https://localhost:8080/"
    },
    "id": "d3b93507-d88a-4773-8d6f-31990e1effbc",
    "outputId": "19f5102b-35de-4eb4-aade-4b864e4c7485"
   },
   "outputs": [
    {
     "name": "stdout",
     "output_type": "stream",
     "text": [
      "a 1\n",
      "b 2\n",
      "c 3\n",
      "d 25\n"
     ]
    }
   ],
   "source": [
    "for key, value in dct.items():\n",
    "    print(key, value)"
   ]
  },
  {
   "cell_type": "code",
   "execution_count": 4,
   "id": "9be2de18-f963-4de0-afba-c183a9a56087",
   "metadata": {
    "colab": {
     "base_uri": "https://localhost:8080/"
    },
    "id": "9be2de18-f963-4de0-afba-c183a9a56087",
    "outputId": "f58e3783-5b95-4d81-d8b9-a492dab9a338"
   },
   "outputs": [
    {
     "name": "stdout",
     "output_type": "stream",
     "text": [
      "a\n",
      "b\n",
      "c\n",
      "d\n"
     ]
    }
   ],
   "source": [
    "for key in dct.keys():\n",
    "    print(key)"
   ]
  },
  {
   "cell_type": "code",
   "execution_count": 5,
   "id": "b7bfbf08-7253-4aab-a9a0-a8e8500c5a29",
   "metadata": {
    "colab": {
     "base_uri": "https://localhost:8080/"
    },
    "id": "b7bfbf08-7253-4aab-a9a0-a8e8500c5a29",
    "outputId": "06e5d055-24d8-41be-e8ae-666f4b8f63f7"
   },
   "outputs": [
    {
     "data": {
      "text/plain": [
       "28"
      ]
     },
     "execution_count": 5,
     "metadata": {},
     "output_type": "execute_result"
    }
   ],
   "source": [
    "dct[\"c\"] + dct[\"d\"]"
   ]
  },
  {
   "cell_type": "markdown",
   "id": "4bde5544-afd0-408e-a03b-dad5096ee685",
   "metadata": {
    "id": "4bde5544-afd0-408e-a03b-dad5096ee685"
   },
   "source": [
    "# Задание 2 (2 балла)"
   ]
  },
  {
   "cell_type": "markdown",
   "id": "36e85085-9990-4a2a-a005-f5ef3afd438d",
   "metadata": {
    "id": "36e85085-9990-4a2a-a005-f5ef3afd438d"
   },
   "source": [
    "Напишите функцию `iter_append`, которая \"добавляет\" новый элемент в конец итератора, возвращая итератор, который включает изначальные элементы и новый элемент. Итерироваться по итератору внутри функции нельзя, то есть вот такая штука не принимается\n",
    "```python\n",
    "def iter_append(iterator, item):\n",
    "    lst = list(iterator) + [item]\n",
    "    return iter(lst)\n",
    "```\n",
    "\n",
    "**Модули использовать нельзя**"
   ]
  },
  {
   "cell_type": "code",
   "execution_count": 6,
   "id": "d70f202a-0515-4f40-a9b1-4738572a837c",
   "metadata": {
    "colab": {
     "base_uri": "https://localhost:8080/"
    },
    "id": "d70f202a-0515-4f40-a9b1-4738572a837c",
    "outputId": "e54d547f-04b8-4657-a1e2-22125f976cf4"
   },
   "outputs": [
    {
     "name": "stdout",
     "output_type": "stream",
     "text": [
      "1\n",
      "2\n",
      "3\n",
      "4\n"
     ]
    }
   ],
   "source": [
    "def iter_append(iterator, item):\n",
    "    yield from iterator\n",
    "    yield item\n",
    "    \n",
    "  \n",
    "\n",
    "my_iterator = iter([1, 2, 3])\n",
    "new_iterator = iter_append(my_iterator, 4)\n",
    "\n",
    "for element in new_iterator:\n",
    "    print(element)"
   ]
  },
  {
   "cell_type": "markdown",
   "id": "72c35894-0caf-41ac-a584-56058b243f29",
   "metadata": {
    "id": "72c35894-0caf-41ac-a584-56058b243f29"
   },
   "source": [
    "# Задание 3 (5 баллов)"
   ]
  },
  {
   "cell_type": "markdown",
   "id": "884be4ed-b388-4b36-ad7d-d6835a87425e",
   "metadata": {
    "id": "884be4ed-b388-4b36-ad7d-d6835a87425e"
   },
   "source": [
    "Представим, что мы установили себе некотурую библиотеку, которая содержит в себе два класса `MyString` и `MySet`, которые являются наследниками `str` и `set`, но также несут и дополнительные методы.\n",
    "\n",
    "Проблема заключается в том, что библиотеку писали не очень аккуратные люди, поэтому получилось так, что некоторые методы возвращают не тот тип данных, который мы ожидаем. Например, `MyString().reverse()` возвращает объект класса `str`, хотя логичнее было бы ожидать объект класса `MyString`.\n",
    "\n",
    "Найдите и реализуйте удобный способ сделать так, чтобы подобные методы возвращали экземпляр текущего класса, а не родительского. При этом **код методов изменять нельзя**\n",
    "\n",
    "**+3 дополнительных балла** за реализацию того, чтобы **унаследованные от `str` и `set` методы** также возвращали объект интересующего нас класса (то есть `MyString.replace(..., ...)` должен возвращать `MyString`). **Переопределять методы нельзя**\n",
    "\n",
    "**Модули использовать нельзя**"
   ]
  },
  {
   "cell_type": "code",
   "execution_count": 7,
   "id": "7973388e-c16f-437f-a1af-30ddd69f7671",
   "metadata": {
    "id": "7973388e-c16f-437f-a1af-30ddd69f7671"
   },
   "outputs": [],
   "source": [
    "# Ваш код где угодно, но не внутри методов\n",
    "\n",
    "#Создаем декоратор методов\n",
    "#Если метод возвращает экземпляр родительского класса - преобразовываем в дочерний класс\n",
    "\n",
    "def to_myclass(func):\n",
    "    def inner_func(self, *args, **kwargs):\n",
    "        result = func(self, *args, **kwargs)\n",
    "        if isinstance(result, type(self).__base__):\n",
    "            return type(self)(result)\n",
    "        else:\n",
    "            return result\n",
    "    return inner_func\n",
    "\n",
    "#Пробегаемся по атрибутам класса. Если он callable - декорируем. Возвращаем новый класс.\n",
    "#Как я понял, для декорирования аргументов родительского класса нужно было использовать метаклассы, но там как-то все сложно, так что пускай уж будет так\n",
    "\n",
    "def class_decorator(decorator):\n",
    "    def inner_func_2(cls):\n",
    "        for attr in cls.__dict__:\n",
    "            if callable(getattr(cls, attr)):\n",
    "                setattr(cls, attr, decorator(getattr(cls, attr)))\n",
    "        return cls\n",
    "    return inner_func_2\n",
    "\n",
    "@class_decorator(to_myclass)\n",
    "class MyString(str):\n",
    "\n",
    "    def reverse(self):\n",
    "        return self[::-1]\n",
    "\n",
    "    def make_uppercase(self):\n",
    "        return \"\".join([chr(ord(char) - 32) if 97 <= ord(char) <= 122 else char for char in self])\n",
    "\n",
    "    def make_lowercase(self):\n",
    "        return \"\".join([chr(ord(char) + 32) if 65 <= ord(char) <= 90 else char for char in self])\n",
    "\n",
    "    def capitalize_words(self):\n",
    "        return \" \".join([word.capitalize() for word in self.split()])\n",
    "    \n",
    "@class_decorator(to_myclass)\n",
    "class MySet(set):\n",
    "\n",
    "    def is_empty(self):\n",
    "        return len(self) == 0\n",
    "\n",
    "    def has_duplicates(self):\n",
    "        return len(self) != len(set(self))\n",
    "\n",
    "    def union_with(self, other):\n",
    "        return self.union(other)\n",
    "\n",
    "    def intersection_with(self, other):\n",
    "        return self.intersection(other)\n",
    "\n",
    "    def difference_with(self, other):\n",
    "        return self.difference(other)"
   ]
  },
  {
   "cell_type": "code",
   "execution_count": 8,
   "id": "8b985a7b-ddf2-47ce-8b76-a4dd921a2e06",
   "metadata": {
    "colab": {
     "base_uri": "https://localhost:8080/"
    },
    "id": "8b985a7b-ddf2-47ce-8b76-a4dd921a2e06",
    "outputId": "a736af04-be47-494b-a962-f8ac28d27ba5"
   },
   "outputs": [
    {
     "name": "stdout",
     "output_type": "stream",
     "text": [
      "<class '__main__.MyString'>\n",
      "<class '__main__.MyString'>\n",
      "<class '__main__.MyString'>\n",
      "<class '__main__.MyString'>\n",
      "\n",
      "<class 'bool'>\n",
      "<class 'bool'>\n",
      "<class '__main__.MySet'>\n",
      "<class '__main__.MySet'>\n"
     ]
    }
   ],
   "source": [
    "string_example = MyString(\"Aa Bb Cc\")\n",
    "set_example_1 = MySet({1, 2, 3, 4})\n",
    "set_example_2 = MySet({3, 4, 5, 6, 6})\n",
    "\n",
    "print(type(string_example.reverse()))\n",
    "print(type(string_example.make_uppercase()))\n",
    "print(type(string_example.make_lowercase()))\n",
    "print(type(string_example.capitalize_words()))\n",
    "print()\n",
    "print(type(set_example_1.is_empty()))\n",
    "print(type(set_example_2.has_duplicates()))\n",
    "print(type(set_example_1.union_with(set_example_2)))\n",
    "print(type(set_example_1.difference_with(set_example_2)))"
   ]
  },
  {
   "cell_type": "markdown",
   "id": "f246ecea-9aaa-45c6-98e4-996dc9cdce14",
   "metadata": {
    "id": "f246ecea-9aaa-45c6-98e4-996dc9cdce14"
   },
   "source": [
    "# Задание 4 (5 баллов)"
   ]
  },
  {
   "cell_type": "markdown",
   "id": "e66831d7-df9c-4778-9942-bbb8796fef1e",
   "metadata": {
    "id": "e66831d7-df9c-4778-9942-bbb8796fef1e"
   },
   "source": [
    "Напишите декоратор `switch_privacy`:\n",
    "1. Делает все публичные **методы** класса приватными\n",
    "2. Делает все приватные методы класса публичными\n",
    "3. Dunder методы и защищённые методы остаются без изменений\n",
    "4. Должен работать тестовый код ниже, в теле класса писать код нельзя\n",
    "\n",
    "**Модули использовать нельзя**"
   ]
  },
  {
   "cell_type": "code",
   "execution_count": 9,
   "id": "Ptj8476z0TNd",
   "metadata": {
    "id": "Ptj8476z0TNd"
   },
   "outputs": [],
   "source": [
    "# это было больно\n",
    "\n",
    "\n",
    "def switch_to_my_methods(cls):\n",
    "    for attr_name in dir(cls):\n",
    "        method = getattr(cls, attr_name)\n",
    "        if callable(method):\n",
    "            if not attr_name.startswith('_'):\n",
    "                upd_attr_name = f'_{cls.__name__}__{attr_name}'\n",
    "                setattr(cls, upd_attr_name, method)\n",
    "                delattr(cls, attr_name)\n",
    "            if attr_name.startswith(f'_{cls.__name__}__'):\n",
    "                upd_attr_name = attr_name.replace(f'_{cls.__name__}__', '')\n",
    "                setattr(cls, upd_attr_name, method)\n",
    "                delattr(cls, attr_name)\n",
    "    return cls\n",
    "\n",
    "@switch_to_my_methods\n",
    "class ExampleClass:\n",
    "    def public_method(self):\n",
    "        return 1\n",
    "    \n",
    "    def _protected_method(self):\n",
    "        return 2\n",
    "    \n",
    "    def __private_method(self):\n",
    "        return 3\n",
    "    \n",
    "    def __dunder_method__(self):\n",
    "        pass"
   ]
  },
  {
   "cell_type": "code",
   "execution_count": 10,
   "id": "c936077d-e618-459c-bbcc-6ad1b22d0975",
   "metadata": {
    "colab": {
     "base_uri": "https://localhost:8080/"
    },
    "id": "c936077d-e618-459c-bbcc-6ad1b22d0975",
    "outputId": "4c327f9a-04c5-480b-f0d3-36eade36031d"
   },
   "outputs": [
    {
     "data": {
      "text/plain": [
       "1"
      ]
     },
     "execution_count": 10,
     "metadata": {},
     "output_type": "execute_result"
    }
   ],
   "source": [
    "test_object = ExampleClass()\n",
    "\n",
    "test_object._ExampleClass__public_method()   # Публичный метод стал приватным"
   ]
  },
  {
   "cell_type": "code",
   "execution_count": 11,
   "id": "10603672-80cf-460c-9305-d0950094419d",
   "metadata": {
    "colab": {
     "base_uri": "https://localhost:8080/"
    },
    "id": "10603672-80cf-460c-9305-d0950094419d",
    "outputId": "e653bb46-bbb2-461b-e6f1-65a3d1fb855c"
   },
   "outputs": [
    {
     "data": {
      "text/plain": [
       "3"
      ]
     },
     "execution_count": 11,
     "metadata": {},
     "output_type": "execute_result"
    }
   ],
   "source": [
    "test_object.private_method()   # Приватный метод стал публичным"
   ]
  },
  {
   "cell_type": "code",
   "execution_count": 12,
   "id": "f30b1ef8-0f80-482d-89f1-09caece61c88",
   "metadata": {
    "colab": {
     "base_uri": "https://localhost:8080/"
    },
    "id": "f30b1ef8-0f80-482d-89f1-09caece61c88",
    "outputId": "43ab4b26-468e-456b-d987-aff82177836b"
   },
   "outputs": [
    {
     "data": {
      "text/plain": [
       "2"
      ]
     },
     "execution_count": 12,
     "metadata": {},
     "output_type": "execute_result"
    }
   ],
   "source": [
    "test_object._protected_method()   # Защищённый метод остался защищённым"
   ]
  },
  {
   "cell_type": "code",
   "execution_count": 13,
   "id": "71d51e6e-62b5-4440-af3e-75088761b1bf",
   "metadata": {
    "id": "71d51e6e-62b5-4440-af3e-75088761b1bf"
   },
   "outputs": [],
   "source": [
    "test_object.__dunder_method__()   # Дандер метод не изменился"
   ]
  },
  {
   "cell_type": "code",
   "execution_count": 14,
   "id": "a97cf0c4-4881-441c-83b6-ef8955377585",
   "metadata": {
    "colab": {
     "base_uri": "https://localhost:8080/"
    },
    "id": "a97cf0c4-4881-441c-83b6-ef8955377585",
    "outputId": "d869d980-6445-48e0-e56a-23ae702616c0"
   },
   "outputs": [
    {
     "data": {
      "text/plain": [
       "(False, False)"
      ]
     },
     "execution_count": 14,
     "metadata": {},
     "output_type": "execute_result"
    }
   ],
   "source": [
    "hasattr(test_object, \"public_method\"), hasattr(test_object, \"private\")   # Изначальные варианты изменённых методов не сохраняются"
   ]
  },
  {
   "cell_type": "markdown",
   "id": "31ad0bdd-9a24-4d6c-a499-e975b4b6acdd",
   "metadata": {
    "id": "31ad0bdd-9a24-4d6c-a499-e975b4b6acdd"
   },
   "source": [
    "# Задание 5 (7 баллов)"
   ]
  },
  {
   "cell_type": "markdown",
   "id": "68c75d25-37f7-491d-bcc0-ba74e8bdb364",
   "metadata": {
    "id": "68c75d25-37f7-491d-bcc0-ba74e8bdb364"
   },
   "source": [
    "Напишите [контекстный менеджер](https://docs.python.org/3/library/stdtypes.html#context-manager-types) `OpenFasta`\n",
    "\n",
    "Контекстные менеджеры это специальные объекты, которые могут работать с конструкцией `with ... as ...:`. В них нет ничего сложного, для их реализации как обычно нужно только определить только пару dunder методов. Изучите этот вопрос самостоятельно\n",
    "\n",
    "1. Объект должен работать как обычные файлы в питоне (наследоваться не надо, здесь лучше будет использовать **композицию**), но:\n",
    "    + При итерации по объекту мы должны будем получать не строку из файла, а специальный объект `FastaRecord`. Он будет хранить в себе информацию о последовательности. Важно, **не строки, а именно последовательности**, в fasta файлах последовательность часто разбивают на много строк\n",
    "    + Нужно написать методы `read_record` и `read_records`, которые по смыслу соответствуют `readline()` и `readlines()` в обычных файлах, но они должны выдавать не строки, а объект(ы) `FastaRecord`\n",
    "2. Конструктор должен принимать один аргумент - **путь к файлу**\n",
    "3. Класс должен эффективно распоряжаться памятью, с расчётом на работу с очень большими файлами\n",
    "    \n",
    "Объект `FastaRecord`. Это должен быть **датакласс** (см. про примеры декораторов в соответствующей лекции) с тремя полями:\n",
    "+ `seq` - последовательность\n",
    "+ `id_` - ID последовательности (это то, что в фаста файле в строке, которая начинается с `>` до первого пробела. Например, >**GTD326487.1** Species anonymous 24 chromosome) \n",
    "+ `description` - то, что осталось после ID (Например, >GTD326487.1 **Species anonymous 24 chromosome**)\n",
    "\n",
    "\n",
    "Напишите демонстрацию работы кода с использованием всех написанных методов, обязательно добавьте файл с тестовыми данными в репозиторий (не обязательно большой)\n",
    "\n",
    "**Можно использовать модули из стандартной библиотеки**"
   ]
  },
  {
   "cell_type": "code",
   "execution_count": 5,
   "id": "HAeW0XAAoSfK",
   "metadata": {
    "colab": {
     "base_uri": "https://localhost:8080/"
    },
    "id": "HAeW0XAAoSfK",
    "outputId": "45e18973-eeb6-4ab2-d839-d0294bfbbe6a"
   },
   "outputs": [
    {
     "name": "stdout",
     "output_type": "stream",
     "text": [
      "FastaRecord(seq='MDITIHNPLIRRPLFSWLAPSRIFDQIFGEHLQESELLPASPSLSPFLMRSPIFRMPSWLETGLSEMRLEKDKFSVNLDVKHFSPEELKVKVLGDMVEIHGKHEERQDEHGFIAREFNRKYRIPADVDPLTITSSLSLDGVLTVSAPRKQSDVPERSIPITREEKPAIAGAQRK', id_='crab_anapl', description='ALPHA CRYSTALLIN B CHAIN (ALPHA(B)-CRYSTALLIN).')\n",
      "FastaRecord(seq='MDIAIHHPWIRRPFFPFHSPSRLFDQFFGEHLLESDLFPASTSLSPFYLRPPSFLRAPSWIDTGLSEMRLEKDRFSVNLDVKHFSPEELKVKVLGDVIEVHGKHEERQDEHGFISREFHRKYRIPADVDPLAITSSLSSDGVLTVNGPRKQASGPERTIPITREEKPAVTAAPKK', id_='crab_bovin', description='ALPHA CRYSTALLIN B CHAIN (ALPHA(B)-CRYSTALLIN).')\n",
      "FastaRecord(seq='MDITIHNPLVRRPLFSWLTPSRIFDQIFGEHLQESELLPTSPSLSPFLMRSPFFRMPSWLETGLSEMRLEKDKFSVNLDVKHFSPEELKVKVLGDMIEIHGKHEERQDEHGFIAREFSRKYRIPADVDPLTITSSLSLDGVLTVSAPRKQSDVPERSIPITREEKPAIAGSQRK', id_='crab_chick', description='ALPHA CRYSTALLIN B CHAIN (ALPHA(B)-CRYSTALLIN).')\n",
      "FastaRecord(seq='MDIAIHHPWIRRPFFPFHSPSRLFDQFFGEHLLESDLFPTSTSLSPFYLRPPSFLRAPSWFDTGLSEMRLEKDRFSVNLDVKHFSPEELKVKVLGDVIEVHGKHEERQDEHGFISREFHRKYRIPADVDPLTITSSLSSDGVLTVNGPRKQVSGPERTIPITREEKPAVTAAPKK', id_='crab_human', description='ALPHA CRYSTALLIN B CHAIN (ALPHA(B)-CRYSTALLIN).')\n",
      "FastaRecord(seq='MDIAIHHPWIRRPFFPFHSPSRLFDQFFGEHLLESDLFSTATSLSPFYLRPPSFLRAPSWIDTGLSEMRMEKDRFSVNLDVKHFSPEELKVKVLGDVVEVHGKHEERQDEHGFISREFHRKYRIPADVDPLTITSSLSSDGVLTVNGPRKQASGPERTIPITREEKPAVTAAPKK', id_='crab_mesau', description='ALPHA CRYSTALLIN B CHAIN (ALPHA(B)-CRYSTALLIN).')\n",
      "FastaRecord(seq='MDIAIHHPWIRRPFFPFHSPSRLFDQFFGEHLLESDLFSTATSLSPFYLRPPSFLRAPSWIDTGLSEMRLEKDRFSVNLDVKHFSPEELKVKVLGDVIEVHGKHEERQDEHGFISREFHRKYRIPADVDPLAITSSLSSDGVLTVNGPRKQVSGPERTIPITREEKPAVAAAPKK', id_='crab_mouse', description='ALPHA CRYSTALLIN B CHAIN (ALPHA(B)-CRYSTALLIN) (P23).')\n",
      "FastaRecord(seq='MDIAIHHPWIRRPFFPFHSPSRLFDQFFGEHLLESDLFPTSTSLSPFYLRPPSFLRAPSWIDTGLSEMRLEKDRFSVNLDVKHFSPEELKVKVLGDVIEVHGKHEERQDEHGFISREFHRKYRIPADVDPLTITSSLSSDGVLTVNGPRKQAPGPERTIPITREEKPAVTAAPKK', id_='crab_rabit', description='ALPHA CRYSTALLIN B CHAIN (ALPHA(B)-CRYSTALLIN).')\n",
      "FastaRecord(seq='MDIAIHHPWIRRPFFPFHSPSRLFDQFFGEHLLESDLFSTATSLSPFYLRPPSFLRAPSWIDTGLSEMRMEKDRFSVNLDVKHFSPEELKVKVLGDVIEVHGKHEERQDEHGFISREFHRKYRIPADVDPLTITSSLSSDGVLTVNGPRKQASGPERTIPITREEKPAVTAAPKK', id_='crab_rat', description='ALPHA CRYSTALLIN B CHAIN (ALPHA(B)-CRYSTALLIN).')\n",
      "FastaRecord(seq='MDIAIQHPWLRRPLFPSSIFPSRIFDQNFGEHFDPDLFPSFSSMLSPFYWRMGAPMARMPSWAQTGLSELRLDKDKFAIHLDVKHFTPEELRVKILGDFIEVQAQHEERQDEHGYVSREFHRKYKVPAGVDPLVITCSLSADGVLTITGPRKVADVPERSVPISRDEKPAVAGPQQK', id_='crab_squac', description='ALPHA CRYSTALLIN B CHAIN (ALPHA(B)-CRYSTALLIN).')\n"
     ]
    }
   ],
   "source": [
    "from dataclasses import dataclass\n",
    "import os\n",
    "\n",
    "@dataclass\n",
    "class FastaRecord:\n",
    "    seq: str\n",
    "    id_: str\n",
    "    description: str\n",
    "\n",
    "\n",
    "class OpenFasta:\n",
    "    def __init__(self, file_name, method=\"r\"):\n",
    "        self.file_obj = open(file_name, method)\n",
    "        self.line = None\n",
    "\n",
    "    def __enter__(self):\n",
    "        return self\n",
    "\n",
    "    def __exit__(self, exc_type, exc_value, traceback):\n",
    "        self.file_obj.close()\n",
    "\n",
    "    def read_record(self):\n",
    "        if self.line == None:\n",
    "            line = self.file_obj.readline().strip() \n",
    "        else:\n",
    "            line = self.line\n",
    "        if not line:  \n",
    "            return None\n",
    "        if ' ' not in line:\n",
    "            id_, description = line[1:], ''\n",
    "        else: \n",
    "            id_, description = line[1:].split(maxsplit=1)  \n",
    "        seq = '' \n",
    "        while True:\n",
    "            line = self.file_obj.readline().strip()  \n",
    "            if not line or line.startswith('>'):  \n",
    "                self.line = line\n",
    "                break\n",
    "            seq += line\n",
    "        return FastaRecord(seq=seq, id_=id_, description=description)\n",
    "\n",
    "    def read_records(self):\n",
    "        while True:\n",
    "            record = self.read_record()  \n",
    "            if not record:  \n",
    "                break\n",
    "            yield record\n",
    "\n",
    "\n",
    "# пример использования\n",
    "\n",
    "\n",
    "with OpenFasta(os.path.join(\"data\", \"example.fasta\")) as fasta:\n",
    "    records = fasta.read_records()\n",
    "    for record in records:\n",
    "        print(record)"
   ]
  },
  {
   "cell_type": "markdown",
   "id": "4db652e9-7697-4dd7-bcc3-649bdc18c1c4",
   "metadata": {
    "id": "4db652e9-7697-4dd7-bcc3-649bdc18c1c4"
   },
   "source": [
    "# Задание 6 (7 баллов)"
   ]
  },
  {
   "cell_type": "markdown",
   "id": "a8ba05f3-29f0-48be-a477-c1f61a9e0537",
   "metadata": {
    "id": "a8ba05f3-29f0-48be-a477-c1f61a9e0537"
   },
   "source": [
    "1. Напишите код, который позволит получать все возможные (неуникальные) генотипы при скрещивании двух организмов. Это может быть функция или класс, что вам кажется более удобным.\n",
    "\n",
    "Например, все возможные исходы скрещивания \"Aabb\" и \"Aabb\" (неуникальные) это\n",
    "\n",
    "```\n",
    "AAbb\n",
    "AAbb\n",
    "AAbb\n",
    "AAbb\n",
    "Aabb\n",
    "Aabb\n",
    "Aabb\n",
    "Aabb\n",
    "Aabb\n",
    "Aabb\n",
    "Aabb\n",
    "Aabb\n",
    "aabb\n",
    "aabb\n",
    "aabb\n",
    "aabb\n",
    "```\n",
    "\n",
    "2. Напишите функцию, которая вычисляет вероятность появления определённого генотипа (его ожидаемую долю в потомстве).\n",
    "Например,\n",
    "\n",
    "```python\n",
    "get_offspting_genotype_probability(parent1=\"Aabb\", parent2=\"Aabb\", target_genotype=\"Аabb\")   # 0.5\n",
    "\n",
    "```\n",
    "\n",
    "3. Напишите код, который выводит все уникальные генотипы при скрещивании `'АаБбввГгДдЕеЖжЗзИиЙйккЛлМмНн'` и `'АаббВвГгДДЕеЖжЗзИиЙйКкЛлМмНН'`, которые содержат в себе следующую комбинацию аллелей `'АаБбВвГгДдЕеЖжЗзИиЙйКкЛл'`\n",
    "4. Напишите код, который расчитывает вероятность появления генотипа `'АаБбввГгДдЕеЖжЗзИиЙйккЛлМмНн'` при скрещивании `АаБбВвГгДдЕеЖжЗзИиЙйКкЛлМмНн` и `АаБбВвГгДдЕеЖжЗзИиЙйКкЛлМмНн`\n",
    "\n",
    "Важные замечания:\n",
    "1. Порядок следования аллелей в случае гетерозигот всегда должен быть следующим: сначала большая буква, затем маленькая (вариант `AaBb` допустим, но `aAbB` быть не должно)\n",
    "2. Подзадачи 3 и 4 могут потребовать много вычислительного времени (до 15+ минут в зависимости от железа), поэтому убедитесь, что вы хорошо протестировали написанный вами код на малых данных перед выполнением этих задач. Если ваш код работает **дольше 20 мин**, то скорее всего ваше решение не оптимально, попытайтесь что-нибудь оптимизировать. Если оптимальное решение совсем не получается, то попробуйте из входных данных во всех заданиях убрать последний ген (это должно уменьшить время выполнения примерно в 4 раза), но **за такое решение будет снято 2 балла**\n",
    "3. Несмотря на то, что подзадания 2, 3 и 4 возможно решить математически, не прибегая к непосредственному получению всех возможных генотипов, от вас требуется именно brute-force вариант алгоритма\n",
    "\n",
    "**Можно использовать модули из стандартной библиотеки питона**, но **за выполнение задания без использования модулей придусмотрено +3 дополнительных балла**"
   ]
  },
  {
   "cell_type": "code",
   "execution_count": 6,
   "id": "JlZKabWxomvV",
   "metadata": {
    "id": "JlZKabWxomvV"
   },
   "outputs": [],
   "source": [
    "# в равнении с моим первым рабочим вариантом этот работает примерно в 10 раз быстрее\n",
    "# но все равно крайне медленно\n",
    "# пускай будет хотя бы так\n",
    "\n",
    "import itertools\n",
    "\n",
    "class all_comb():\n",
    "    def __init__(self, org1, org2):\n",
    "        self.org1 = org1\n",
    "        self.org2 = org2\n",
    "        \n",
    "\n",
    "    def comb(self):\n",
    "        genes1 = (self.org1[i:i+2] for i in range(0, len(self.org1), 2))\n",
    "        genes2 = (self.org2[i:i+2] for i in range(0, len(self.org2), 2))\n",
    "        \n",
    "        sep_combs = (itertools.product(gene1, gene2) for gene1, gene2 in zip(genes1, genes2))\n",
    "        combs = itertools.product(*sep_combs)\n",
    "\n",
    "        for tpl in combs:\n",
    "            temp_str = \"\"\n",
    "            for inner_tpl in tpl:\n",
    "                temp_str += \"\".join(inner_tpl)\n",
    "            if len(temp_str) >= 4:\n",
    "                sort = sorted(temp_str, key=lambda x: (x.upper(), x.islower(), temp_str.index(x)))\n",
    "                yield ''.join(sort)\n",
    "\n",
    "    def prob(self, genotype):\n",
    "        combs = self.comb()\n",
    "        n_comb = 0\n",
    "        gt_count = 0\n",
    "        for i in combs:\n",
    "            n_comb += 1\n",
    "            if i == genotype:\n",
    "                gt_count += 1\n",
    "        prob = gt_count / n_comb\n",
    "        return prob \n",
    "\n",
    "    def cont(self, substring):\n",
    "        combs = self.comb()\n",
    "        count = 0\n",
    "        for i in combs:\n",
    "            if substring in i:\n",
    "                count += 1\n",
    "        return count"
   ]
  },
  {
   "cell_type": "code",
   "execution_count": 4,
   "id": "PsbPyyU57D-v",
   "metadata": {
    "colab": {
     "base_uri": "https://localhost:8080/"
    },
    "id": "PsbPyyU57D-v",
    "outputId": "8b8df693-0dbd-4d77-cb46-e23b98d2c12a"
   },
   "outputs": [
    {
     "name": "stdout",
     "output_type": "stream",
     "text": [
      "CPU times: user 19min 53s, sys: 2.3 s, total: 19min 56s\n",
      "Wall time: 20min 2s\n"
     ]
    },
    {
     "data": {
      "text/plain": [
       "32768"
      ]
     },
     "execution_count": 4,
     "metadata": {},
     "output_type": "execute_result"
    }
   ],
   "source": [
    "%%time\n",
    "# Ваш код здесь (3 подзадание)\n",
    "\n",
    "a = all_comb('АаБбввГгДдЕеЖжЗзИиЙйккЛлМм', 'АаббВвГгДДЕеЖжЗзИиЙйКкЛлМм')\n",
    "a.cont('АаБбВвГгДдЕеЖжЗзИиЙйКк')"
   ]
  },
  {
   "cell_type": "code",
   "execution_count": 5,
   "id": "KFnhWnGP7LD1",
   "metadata": {
    "colab": {
     "base_uri": "https://localhost:8080/"
    },
    "id": "KFnhWnGP7LD1",
    "outputId": "13450137-7d02-4906-d397-7f1e63cc76a4"
   },
   "outputs": [
    {
     "name": "stdout",
     "output_type": "stream",
     "text": [
      "CPU times: user 20min 4s, sys: 2.71 s, total: 20min 7s\n",
      "Wall time: 20min 24s\n"
     ]
    },
    {
     "data": {
      "text/plain": [
       "3.0517578125e-05"
      ]
     },
     "execution_count": 5,
     "metadata": {},
     "output_type": "execute_result"
    }
   ],
   "source": [
    "%%time\n",
    "# Ваш код здесь (4 подзадание)\n",
    "\n",
    "a = all_comb('АаБбВвГгДдЕеЖжЗзИиЙйКкЛлМм', 'АаБбВвГгДдЕеЖжЗзИиЙйКкЛлМм')\n",
    "a.prob('АаБбввГгДдЕеЖжЗзИиЙйккЛлМм')"
   ]
  },
  {
   "cell_type": "code",
   "execution_count": null,
   "id": "29d8385c",
   "metadata": {},
   "outputs": [],
   "source": []
  }
 ],
 "metadata": {
  "colab": {
   "history_visible": true,
   "provenance": []
  },
  "kernelspec": {
   "display_name": "Python 3 (ipykernel)",
   "language": "python",
   "name": "python3"
  },
  "language_info": {
   "codemirror_mode": {
    "name": "ipython",
    "version": 3
   },
   "file_extension": ".py",
   "mimetype": "text/x-python",
   "name": "python",
   "nbconvert_exporter": "python",
   "pygments_lexer": "ipython3",
   "version": "3.9.16"
  }
 },
 "nbformat": 4,
 "nbformat_minor": 5
}
